{
 "cells": [
  {
   "cell_type": "code",
   "execution_count": 2,
   "id": "wmXqv46tE6zs",
   "metadata": {
    "colab": {
     "base_uri": "https://localhost:8080/"
    },
    "id": "wmXqv46tE6zs",
    "outputId": "6befbef6-dc0e-476b-d33b-51e9aa146414"
   },
   "outputs": [
    {
     "name": "stdout",
     "output_type": "stream",
     "text": [
      "Defaulting to user installation because normal site-packages is not writeable\n",
      "Requirement already satisfied: plotly in c:\\programdata\\anaconda3\\lib\\site-packages (5.9.0)\n",
      "Requirement already satisfied: tenacity>=6.2.0 in c:\\programdata\\anaconda3\\lib\\site-packages (from plotly) (8.2.2)\n"
     ]
    }
   ],
   "source": [
    "!pip install plotly"
   ]
  },
  {
   "cell_type": "code",
   "execution_count": 3,
   "id": "fda8dfa0-a4a4-4060-bc92-cf1eb4e878ac",
   "metadata": {
    "id": "fda8dfa0-a4a4-4060-bc92-cf1eb4e878ac"
   },
   "outputs": [],
   "source": [
    "import pandas as pd\n",
    "import numpy as np\n",
    "from scipy import stats\n",
    "import seaborn as sb\n",
    "import seaborn\n",
    "import seaborn as sns\n",
    "import matplotlib.pyplot as plt\n",
    "import plotly.express as px"
   ]
  },
  {
   "cell_type": "code",
   "execution_count": 4,
   "id": "9ef5315a-3c16-40cc-9c22-bb519ca18f9a",
   "metadata": {
    "colab": {
     "base_uri": "https://localhost:8080/"
    },
    "id": "9ef5315a-3c16-40cc-9c22-bb519ca18f9a",
    "outputId": "81a27883-deb6-4767-c4d4-07d4cf670a5f"
   },
   "outputs": [
    {
     "data": {
      "text/html": [
       "<div>\n",
       "<style scoped>\n",
       "    .dataframe tbody tr th:only-of-type {\n",
       "        vertical-align: middle;\n",
       "    }\n",
       "\n",
       "    .dataframe tbody tr th {\n",
       "        vertical-align: top;\n",
       "    }\n",
       "\n",
       "    .dataframe thead th {\n",
       "        text-align: right;\n",
       "    }\n",
       "</style>\n",
       "<table border=\"1\" class=\"dataframe\">\n",
       "  <thead>\n",
       "    <tr style=\"text-align: right;\">\n",
       "      <th></th>\n",
       "      <th>Name</th>\n",
       "      <th>Age</th>\n",
       "      <th>Gender</th>\n",
       "      <th>Blood Type</th>\n",
       "      <th>Medical Condition</th>\n",
       "      <th>Date of Admission</th>\n",
       "      <th>Doctor</th>\n",
       "      <th>Hospital</th>\n",
       "      <th>Insurance Provider</th>\n",
       "      <th>Billing Amount</th>\n",
       "      <th>Room Number</th>\n",
       "      <th>Admission Type</th>\n",
       "      <th>Discharge Date</th>\n",
       "      <th>Medication</th>\n",
       "      <th>Test Results</th>\n",
       "    </tr>\n",
       "  </thead>\n",
       "  <tbody>\n",
       "    <tr>\n",
       "      <th>0</th>\n",
       "      <td>Bobby JacksOn</td>\n",
       "      <td>30</td>\n",
       "      <td>Male</td>\n",
       "      <td>B-</td>\n",
       "      <td>Cancer</td>\n",
       "      <td>2024-01-31</td>\n",
       "      <td>Matthew Smith</td>\n",
       "      <td>Sons and Miller</td>\n",
       "      <td>Blue Cross</td>\n",
       "      <td>18856.281306</td>\n",
       "      <td>328</td>\n",
       "      <td>Urgent</td>\n",
       "      <td>2024-02-02</td>\n",
       "      <td>Paracetamol</td>\n",
       "      <td>Normal</td>\n",
       "    </tr>\n",
       "    <tr>\n",
       "      <th>1</th>\n",
       "      <td>LesLie TErRy</td>\n",
       "      <td>62</td>\n",
       "      <td>Male</td>\n",
       "      <td>A+</td>\n",
       "      <td>Obesity</td>\n",
       "      <td>2019-08-20</td>\n",
       "      <td>Samantha Davies</td>\n",
       "      <td>Kim Inc</td>\n",
       "      <td>Medicare</td>\n",
       "      <td>33643.327287</td>\n",
       "      <td>265</td>\n",
       "      <td>Emergency</td>\n",
       "      <td>2019-08-26</td>\n",
       "      <td>Ibuprofen</td>\n",
       "      <td>Inconclusive</td>\n",
       "    </tr>\n",
       "    <tr>\n",
       "      <th>2</th>\n",
       "      <td>DaNnY sMitH</td>\n",
       "      <td>76</td>\n",
       "      <td>Female</td>\n",
       "      <td>A-</td>\n",
       "      <td>Obesity</td>\n",
       "      <td>2022-09-22</td>\n",
       "      <td>Tiffany Mitchell</td>\n",
       "      <td>Cook PLC</td>\n",
       "      <td>Aetna</td>\n",
       "      <td>27955.096079</td>\n",
       "      <td>205</td>\n",
       "      <td>Emergency</td>\n",
       "      <td>2022-10-07</td>\n",
       "      <td>Aspirin</td>\n",
       "      <td>Normal</td>\n",
       "    </tr>\n",
       "    <tr>\n",
       "      <th>3</th>\n",
       "      <td>andrEw waTtS</td>\n",
       "      <td>28</td>\n",
       "      <td>Female</td>\n",
       "      <td>O+</td>\n",
       "      <td>Diabetes</td>\n",
       "      <td>2020-11-18</td>\n",
       "      <td>Kevin Wells</td>\n",
       "      <td>Hernandez Rogers and Vang,</td>\n",
       "      <td>Medicare</td>\n",
       "      <td>37909.782410</td>\n",
       "      <td>450</td>\n",
       "      <td>Elective</td>\n",
       "      <td>2020-12-18</td>\n",
       "      <td>Ibuprofen</td>\n",
       "      <td>Abnormal</td>\n",
       "    </tr>\n",
       "    <tr>\n",
       "      <th>4</th>\n",
       "      <td>adrIENNE bEll</td>\n",
       "      <td>43</td>\n",
       "      <td>Female</td>\n",
       "      <td>AB+</td>\n",
       "      <td>Cancer</td>\n",
       "      <td>2022-09-19</td>\n",
       "      <td>Kathleen Hanna</td>\n",
       "      <td>White-White</td>\n",
       "      <td>Aetna</td>\n",
       "      <td>14238.317814</td>\n",
       "      <td>458</td>\n",
       "      <td>Urgent</td>\n",
       "      <td>2022-10-09</td>\n",
       "      <td>Penicillin</td>\n",
       "      <td>Abnormal</td>\n",
       "    </tr>\n",
       "    <tr>\n",
       "      <th>...</th>\n",
       "      <td>...</td>\n",
       "      <td>...</td>\n",
       "      <td>...</td>\n",
       "      <td>...</td>\n",
       "      <td>...</td>\n",
       "      <td>...</td>\n",
       "      <td>...</td>\n",
       "      <td>...</td>\n",
       "      <td>...</td>\n",
       "      <td>...</td>\n",
       "      <td>...</td>\n",
       "      <td>...</td>\n",
       "      <td>...</td>\n",
       "      <td>...</td>\n",
       "      <td>...</td>\n",
       "    </tr>\n",
       "    <tr>\n",
       "      <th>55495</th>\n",
       "      <td>eLIZABeTH jaCkSOn</td>\n",
       "      <td>42</td>\n",
       "      <td>Female</td>\n",
       "      <td>O+</td>\n",
       "      <td>Asthma</td>\n",
       "      <td>2020-08-16</td>\n",
       "      <td>Joshua Jarvis</td>\n",
       "      <td>Jones-Thompson</td>\n",
       "      <td>Blue Cross</td>\n",
       "      <td>2650.714952</td>\n",
       "      <td>417</td>\n",
       "      <td>Elective</td>\n",
       "      <td>2020-09-15</td>\n",
       "      <td>Penicillin</td>\n",
       "      <td>Abnormal</td>\n",
       "    </tr>\n",
       "    <tr>\n",
       "      <th>55496</th>\n",
       "      <td>KYle pEREz</td>\n",
       "      <td>61</td>\n",
       "      <td>Female</td>\n",
       "      <td>AB-</td>\n",
       "      <td>Obesity</td>\n",
       "      <td>2020-01-23</td>\n",
       "      <td>Taylor Sullivan</td>\n",
       "      <td>Tucker-Moyer</td>\n",
       "      <td>Cigna</td>\n",
       "      <td>31457.797307</td>\n",
       "      <td>316</td>\n",
       "      <td>Elective</td>\n",
       "      <td>2020-02-01</td>\n",
       "      <td>Aspirin</td>\n",
       "      <td>Normal</td>\n",
       "    </tr>\n",
       "    <tr>\n",
       "      <th>55497</th>\n",
       "      <td>HEATher WaNG</td>\n",
       "      <td>38</td>\n",
       "      <td>Female</td>\n",
       "      <td>B+</td>\n",
       "      <td>Hypertension</td>\n",
       "      <td>2020-07-13</td>\n",
       "      <td>Joe Jacobs DVM</td>\n",
       "      <td>and Mahoney Johnson Vasquez,</td>\n",
       "      <td>UnitedHealthcare</td>\n",
       "      <td>27620.764717</td>\n",
       "      <td>347</td>\n",
       "      <td>Urgent</td>\n",
       "      <td>2020-08-10</td>\n",
       "      <td>Ibuprofen</td>\n",
       "      <td>Abnormal</td>\n",
       "    </tr>\n",
       "    <tr>\n",
       "      <th>55498</th>\n",
       "      <td>JENniFER JOneS</td>\n",
       "      <td>43</td>\n",
       "      <td>Male</td>\n",
       "      <td>O-</td>\n",
       "      <td>Arthritis</td>\n",
       "      <td>2019-05-25</td>\n",
       "      <td>Kimberly Curry</td>\n",
       "      <td>Jackson Todd and Castro,</td>\n",
       "      <td>Medicare</td>\n",
       "      <td>32451.092358</td>\n",
       "      <td>321</td>\n",
       "      <td>Elective</td>\n",
       "      <td>2019-05-31</td>\n",
       "      <td>Ibuprofen</td>\n",
       "      <td>Abnormal</td>\n",
       "    </tr>\n",
       "    <tr>\n",
       "      <th>55499</th>\n",
       "      <td>jAMES GARCiA</td>\n",
       "      <td>53</td>\n",
       "      <td>Female</td>\n",
       "      <td>O+</td>\n",
       "      <td>Arthritis</td>\n",
       "      <td>2024-04-02</td>\n",
       "      <td>Dennis Warren</td>\n",
       "      <td>Henry Sons and</td>\n",
       "      <td>Aetna</td>\n",
       "      <td>4010.134172</td>\n",
       "      <td>448</td>\n",
       "      <td>Urgent</td>\n",
       "      <td>2024-04-29</td>\n",
       "      <td>Ibuprofen</td>\n",
       "      <td>Abnormal</td>\n",
       "    </tr>\n",
       "  </tbody>\n",
       "</table>\n",
       "<p>55500 rows × 15 columns</p>\n",
       "</div>"
      ],
      "text/plain": [
       "                    Name  Age  Gender Blood Type Medical Condition  \\\n",
       "0          Bobby JacksOn   30    Male         B-            Cancer   \n",
       "1           LesLie TErRy   62    Male         A+           Obesity   \n",
       "2            DaNnY sMitH   76  Female         A-           Obesity   \n",
       "3           andrEw waTtS   28  Female         O+          Diabetes   \n",
       "4          adrIENNE bEll   43  Female        AB+            Cancer   \n",
       "...                  ...  ...     ...        ...               ...   \n",
       "55495  eLIZABeTH jaCkSOn   42  Female         O+            Asthma   \n",
       "55496         KYle pEREz   61  Female        AB-           Obesity   \n",
       "55497       HEATher WaNG   38  Female         B+      Hypertension   \n",
       "55498     JENniFER JOneS   43    Male         O-         Arthritis   \n",
       "55499       jAMES GARCiA   53  Female         O+         Arthritis   \n",
       "\n",
       "      Date of Admission            Doctor                      Hospital  \\\n",
       "0            2024-01-31     Matthew Smith               Sons and Miller   \n",
       "1            2019-08-20   Samantha Davies                       Kim Inc   \n",
       "2            2022-09-22  Tiffany Mitchell                      Cook PLC   \n",
       "3            2020-11-18       Kevin Wells    Hernandez Rogers and Vang,   \n",
       "4            2022-09-19    Kathleen Hanna                   White-White   \n",
       "...                 ...               ...                           ...   \n",
       "55495        2020-08-16     Joshua Jarvis                Jones-Thompson   \n",
       "55496        2020-01-23   Taylor Sullivan                  Tucker-Moyer   \n",
       "55497        2020-07-13    Joe Jacobs DVM  and Mahoney Johnson Vasquez,   \n",
       "55498        2019-05-25    Kimberly Curry      Jackson Todd and Castro,   \n",
       "55499        2024-04-02     Dennis Warren                Henry Sons and   \n",
       "\n",
       "      Insurance Provider  Billing Amount  Room Number Admission Type  \\\n",
       "0             Blue Cross    18856.281306          328         Urgent   \n",
       "1               Medicare    33643.327287          265      Emergency   \n",
       "2                  Aetna    27955.096079          205      Emergency   \n",
       "3               Medicare    37909.782410          450       Elective   \n",
       "4                  Aetna    14238.317814          458         Urgent   \n",
       "...                  ...             ...          ...            ...   \n",
       "55495         Blue Cross     2650.714952          417       Elective   \n",
       "55496              Cigna    31457.797307          316       Elective   \n",
       "55497   UnitedHealthcare    27620.764717          347         Urgent   \n",
       "55498           Medicare    32451.092358          321       Elective   \n",
       "55499              Aetna     4010.134172          448         Urgent   \n",
       "\n",
       "      Discharge Date   Medication  Test Results  \n",
       "0         2024-02-02  Paracetamol        Normal  \n",
       "1         2019-08-26    Ibuprofen  Inconclusive  \n",
       "2         2022-10-07      Aspirin        Normal  \n",
       "3         2020-12-18    Ibuprofen      Abnormal  \n",
       "4         2022-10-09   Penicillin      Abnormal  \n",
       "...              ...          ...           ...  \n",
       "55495     2020-09-15   Penicillin      Abnormal  \n",
       "55496     2020-02-01      Aspirin        Normal  \n",
       "55497     2020-08-10    Ibuprofen      Abnormal  \n",
       "55498     2019-05-31    Ibuprofen      Abnormal  \n",
       "55499     2024-04-29    Ibuprofen      Abnormal  \n",
       "\n",
       "[55500 rows x 15 columns]"
      ]
     },
     "execution_count": 4,
     "metadata": {},
     "output_type": "execute_result"
    }
   ],
   "source": [
    "# Reading the dataset\n",
    "healthcare_df = pd.read_csv('healthcare_dataset.csv')\n",
    "healthcare_df"
   ]
  },
  {
   "cell_type": "code",
   "execution_count": 5,
   "id": "0ba7fbe9-092d-4850-9db8-ae25cf0c82f8",
   "metadata": {
    "colab": {
     "base_uri": "https://localhost:8080/"
    },
    "id": "0ba7fbe9-092d-4850-9db8-ae25cf0c82f8",
    "outputId": "aa54e84e-7537-4261-93c5-619516618888"
   },
   "outputs": [
    {
     "name": "stdout",
     "output_type": "stream",
     "text": [
      "(55500, 15)\n"
     ]
    }
   ],
   "source": [
    "# Getting size of the data\n",
    "print(healthcare_df.shape)"
   ]
  },
  {
   "cell_type": "code",
   "execution_count": 6,
   "id": "8112fa15-8b0b-45fc-bd36-fd02b525ce7e",
   "metadata": {
    "colab": {
     "base_uri": "https://localhost:8080/"
    },
    "id": "8112fa15-8b0b-45fc-bd36-fd02b525ce7e",
    "outputId": "9169876a-8155-454e-ac84-187e638f50c5"
   },
   "outputs": [
    {
     "name": "stdout",
     "output_type": "stream",
     "text": [
      "<class 'pandas.core.frame.DataFrame'>\n",
      "RangeIndex: 55500 entries, 0 to 55499\n",
      "Data columns (total 15 columns):\n",
      " #   Column              Non-Null Count  Dtype  \n",
      "---  ------              --------------  -----  \n",
      " 0   Name                55500 non-null  object \n",
      " 1   Age                 55500 non-null  int64  \n",
      " 2   Gender              55500 non-null  object \n",
      " 3   Blood Type          55500 non-null  object \n",
      " 4   Medical Condition   55500 non-null  object \n",
      " 5   Date of Admission   55500 non-null  object \n",
      " 6   Doctor              55500 non-null  object \n",
      " 7   Hospital            55500 non-null  object \n",
      " 8   Insurance Provider  55500 non-null  object \n",
      " 9   Billing Amount      55500 non-null  float64\n",
      " 10  Room Number         55500 non-null  int64  \n",
      " 11  Admission Type      55500 non-null  object \n",
      " 12  Discharge Date      55500 non-null  object \n",
      " 13  Medication          55500 non-null  object \n",
      " 14  Test Results        55500 non-null  object \n",
      "dtypes: float64(1), int64(2), object(12)\n",
      "memory usage: 6.4+ MB\n"
     ]
    }
   ],
   "source": [
    "# Dropping the null values\n",
    "healtcare_df_dropped=healthcare_df.dropna(how='any')\n",
    "healthcare_df.info()"
   ]
  },
  {
   "cell_type": "code",
   "execution_count": 7,
   "id": "HryBwjWWGdXs",
   "metadata": {
    "colab": {
     "base_uri": "https://localhost:8080/"
    },
    "id": "HryBwjWWGdXs",
    "outputId": "b274d671-62eb-4f16-9311-f754a995e061"
   },
   "outputs": [
    {
     "name": "stdout",
     "output_type": "stream",
     "text": [
      "       Age  Gender Medical Condition Date of Admission Insurance Provider  \\\n",
      "0       30    Male            Cancer        2024-01-31         Blue Cross   \n",
      "1       62    Male           Obesity        2019-08-20           Medicare   \n",
      "2       76  Female           Obesity        2022-09-22              Aetna   \n",
      "3       28  Female          Diabetes        2020-11-18           Medicare   \n",
      "4       43  Female            Cancer        2022-09-19              Aetna   \n",
      "...    ...     ...               ...               ...                ...   \n",
      "55495   42  Female            Asthma        2020-08-16         Blue Cross   \n",
      "55496   61  Female           Obesity        2020-01-23              Cigna   \n",
      "55497   38  Female      Hypertension        2020-07-13   UnitedHealthcare   \n",
      "55498   43    Male         Arthritis        2019-05-25           Medicare   \n",
      "55499   53  Female         Arthritis        2024-04-02              Aetna   \n",
      "\n",
      "       Billing Amount Discharge Date  \n",
      "0        18856.281306     2024-02-02  \n",
      "1        33643.327287     2019-08-26  \n",
      "2        27955.096079     2022-10-07  \n",
      "3        37909.782410     2020-12-18  \n",
      "4        14238.317814     2022-10-09  \n",
      "...               ...            ...  \n",
      "55495     2650.714952     2020-09-15  \n",
      "55496    31457.797307     2020-02-01  \n",
      "55497    27620.764717     2020-08-10  \n",
      "55498    32451.092358     2019-05-31  \n",
      "55499     4010.134172     2024-04-29  \n",
      "\n",
      "[55500 rows x 7 columns]\n"
     ]
    }
   ],
   "source": [
    "# Columns to be dropped\n",
    "columns_to_drop = ['Name', 'Blood Type', 'Doctor', 'Hospital', 'Room Number', 'Admission Type', 'Medication', 'Test Results']\n",
    "healthcare_df_dropped = healthcare_df.drop(columns=columns_to_drop)\n",
    "print(healthcare_df_dropped)"
   ]
  },
  {
   "cell_type": "code",
   "execution_count": 8,
   "id": "IZelLbDzK_te",
   "metadata": {
    "colab": {
     "base_uri": "https://localhost:8080/"
    },
    "id": "IZelLbDzK_te",
    "outputId": "634227ab-240a-427b-bd45-454667fa4a75"
   },
   "outputs": [
    {
     "name": "stdout",
     "output_type": "stream",
     "text": [
      "Medical Condition\n",
      "Arthritis       Female\n",
      "Asthma            Male\n",
      "Cancer            Male\n",
      "Diabetes          Male\n",
      "Hypertension      Male\n",
      "Obesity         Female\n",
      "dtype: object\n"
     ]
    }
   ],
   "source": [
    "# Grouping the data by Gender and Medical Condition\n",
    "gender_condition_counts = healthcare_df.groupby(['Gender', 'Medical Condition'])\\\n",
    " ['Medical Condition'].count().unstack().fillna(0)\n",
    "# Trying to find the most common medical condition for each gender:\n",
    "most_common_conditions = gender_condition_counts.idxmax()\n",
    "print(most_common_conditions)\n"
   ]
  },
  {
   "cell_type": "code",
   "execution_count": 9,
   "id": "j2mvQ0HrBuS5",
   "metadata": {
    "colab": {
     "base_uri": "https://localhost:8080/",
     "height": 307
    },
    "id": "j2mvQ0HrBuS5",
    "outputId": "dc31ecaf-943b-450d-a4eb-f639f37f5b22"
   },
   "outputs": [
    {
     "data": {
      "image/png": "[encoded data removed]",
      "text/plain": [
       "<Figure size 600x300 with 1 Axes>"
      ]
     },
     "metadata": {},
     "output_type": "display_data"
    }
   ],
   "source": [
    "data = {'Medical Condition': ['Arthritis', 'Asthma', 'Cancer', 'Diabetes', 'Hypertension', 'Obesity'],\n",
    "        'Gender': ['Female', 'Male', 'Male', 'Male', 'Male', 'Female']}\n",
    "\n",
    "plt.figure(figsize=(6, 3))\n",
    "plt.bar(data['Medical Condition'], data['Gender'])\n",
    "plt.xlabel('Medical Condition')\n",
    "plt.ylabel('Most Common Gender')\n",
    "plt.title('Most Common Gender for Each Medical Condition')\n",
    "plt.xticks(rotation=45)\n",
    "plt.tight_layout()\n",
    "plt.show()"
   ]
  },
  {
   "cell_type": "code",
   "execution_count": 10,
   "id": "fXoirC00CXy8",
   "metadata": {
    "colab": {
     "base_uri": "https://localhost:8080/",
     "height": 428
    },
    "id": "fXoirC00CXy8",
    "outputId": "a9a09d6e-d1cd-4d6b-b3c6-57b74a81e138"
   },
   "outputs": [
    {
     "data": {
      "image/png": "[encoded data removed]",
      "text/plain": [
       "<Figure size 1200x600 with 6 Axes>"
      ]
     },
     "metadata": {},
     "output_type": "display_data"
    }
   ],
   "source": [
    "data = {'Medical Condition': ['Arthritis', 'Asthma', 'Cancer', 'Diabetes', 'Hypertension', 'Obesity'],\n",
    "        'Gender': ['Female', 'Male', 'Male', 'Male', 'Male', 'Female']}\n",
    "\n",
    "data = {'Medical Condition': ['Arthritis', 'Asthma', 'Cancer', 'Diabetes', 'Hypertension', 'Obesity'],\n",
    "        'Gender': ['Female', 'Male', 'Male', 'Male', 'Male', 'Female']}\n",
    "\n",
    "# Create subplots for each medical condition\n",
    "fig, axes = plt.subplots(2, 3, figsize=(12, 6))\n",
    "axes = axes.flatten()\n",
    "\n",
    "for i, condition in enumerate(data['Medical Condition']):\n",
    "    # Count genders for the current condition\n",
    "    gender_counts = {'Male': 0, 'Female': 0}\n",
    "    for gender in data['Gender'][i:]:\n",
    "        gender_counts[gender] += 1\n",
    "    \n",
    "    # Plot pie chart\n",
    "    axes[i].pie(gender_counts.values(), labels=gender_counts.keys(), autopct='%1.1f%%', startangle=90)\n",
    "    axes[i].set_title(condition)\n",
    "\n",
    "plt.tight_layout()\n",
    "plt.show()"
   ]
  },
  {
   "cell_type": "code",
   "execution_count": 11,
   "id": "Msby2IU3MLGq",
   "metadata": {
    "colab": {
     "base_uri": "https://localhost:8080/"
    },
    "id": "Msby2IU3MLGq",
    "outputId": "9de7b165-90a6-4514-ad15-814a666de22d"
   },
   "outputs": [
    {
     "name": "stdout",
     "output_type": "stream",
     "text": [
      "Gender  Medical Condition\n",
      "Female  Arthritis            4686\n",
      "        Asthma               4553\n",
      "        Cancer               4602\n",
      "        Diabetes             4651\n",
      "        Hypertension         4612\n",
      "        Obesity              4622\n",
      "Male    Arthritis            4622\n",
      "        Asthma               4632\n",
      "        Cancer               4625\n",
      "        Diabetes             4653\n",
      "        Hypertension         4633\n",
      "        Obesity              4609\n",
      "Name: Medical Condition, dtype: int64\n"
     ]
    }
   ],
   "source": [
    "# Display values of the most common medical condition for each gender:\n",
    "gender_condition_counts = healthcare_df.groupby(['Gender', 'Medical Condition'])['Medical Condition'].count()\n",
    "print(gender_condition_counts)"
   ]
  },
  {
   "cell_type": "code",
   "execution_count": 12,
   "id": "t_x9ARqI9bcx",
   "metadata": {
    "id": "t_x9ARqI9bcx"
   },
   "outputs": [],
   "source": [
    "# Convert data into pandas DataFrame\n",
    "data = {'Gender': ['Female', 'Female', 'Female', 'Female', 'Female', 'Female', 'Male', 'Male', 'Male', 'Male'],\n",
    "        'Medical Condition': ['Arthritis', 'Asthma', 'Cancer', 'Diabetes', 'Hypertension', 'Obesity',\n",
    "                             'Arthritis', 'Asthma', 'Cancer', 'Diabetes'],\n",
    "        'Count': [4686, 4553, 4602, 4651, 4612, 4622, 4622, 4632, 4625, 4653]}\n",
    "df = pd.DataFrame(data)"
   ]
  },
  {
   "cell_type": "code",
   "execution_count": 13,
   "id": "ARhv7-R_-Bcd",
   "metadata": {
    "id": "ARhv7-R_-Bcd"
   },
   "outputs": [],
   "source": [
    "# Pivot table to prepare for visaualization\n",
    "pivot_df = df.pivot(index='Medical Condition', columns='Gender',\\\n",
    "                    values='Count').fillna(0)"
   ]
  },
  {
   "cell_type": "code",
   "execution_count": 14,
   "id": "TGh0stmKNDfP",
   "metadata": {
    "colab": {
     "base_uri": "https://localhost:8080/"
    },
    "id": "TGh0stmKNDfP",
    "outputId": "b179e7e8-2994-4ca0-b138-eadbbf32c3c1"
   },
   "outputs": [
    {
     "name": "stdout",
     "output_type": "stream",
     "text": [
      "(Female, Arthritis)         4686\n",
      "(Female, Asthma)            4553\n",
      "(Female, Cancer)            4602\n",
      "(Female, Diabetes)          4651\n",
      "(Female, Hypertension)      4612\n",
      "(Female, Obesity)           4622\n",
      "(Male, Arthritis)           4622\n",
      "(Male, Asthma)              4632\n",
      "(Male, Cancer)              4625\n",
      "(Male, Diabetes)            4653\n",
      "(Male, Hypertension)        4633\n",
      "(Male, Obesity)             4609\n",
      "Arthritis                 Female\n",
      "Asthma                      Male\n",
      "Cancer                      Male\n",
      "Diabetes                    Male\n",
      "Hypertension                Male\n",
      "Obesity                   Female\n",
      "dtype: object\n"
     ]
    }
   ],
   "source": [
    "# Combining the 2 dataframes by concatination:\n",
    "result = pd.concat([gender_condition_counts, most_common_conditions])\n",
    "print(result)"
   ]
  },
  {
   "cell_type": "code",
   "execution_count": 15,
   "id": "GNPfKIivPzT8",
   "metadata": {
    "colab": {
     "base_uri": "https://localhost:8080/"
    },
    "id": "GNPfKIivPzT8",
    "outputId": "85796c65-f5dc-4ab5-c38d-d605abcea9dc"
   },
   "outputs": [
    {
     "name": "stdout",
     "output_type": "stream",
     "text": [
      "    Gender Medical Condition  Count\n",
      "0   Female         Arthritis   4686\n",
      "1   Female            Asthma   4553\n",
      "2   Female            Cancer   4602\n",
      "3   Female          Diabetes   4651\n",
      "4   Female      Hypertension   4612\n",
      "5   Female           Obesity   4622\n",
      "6     Male         Arthritis   4622\n",
      "7     Male            Asthma   4632\n",
      "8     Male            Cancer   4625\n",
      "9     Male          Diabetes   4653\n",
      "10    Male      Hypertension   4633\n",
      "11    Male           Obesity   4609\n"
     ]
    }
   ],
   "source": [
    "# Grouping the datasets\n",
    "gender_condition_counts = healthcare_df.groupby(['Gender', 'Medical Condition'])['Medical Condition'].count().reset_index(name='Count')\n",
    "print(gender_condition_counts)"
   ]
  },
  {
   "cell_type": "code",
   "execution_count": 16,
   "id": "bWGTMtKHQM4S",
   "metadata": {
    "colab": {
     "base_uri": "https://localhost:8080/"
    },
    "id": "bWGTMtKHQM4S",
    "outputId": "7b2dfa94-1f9a-4c12-e284-19d36ae553d2"
   },
   "outputs": [
    {
     "name": "stdout",
     "output_type": "stream",
     "text": [
      "    Gender Medical Condition  Count\n",
      "0   Female         Arthritis   4686\n",
      "1   Female            Asthma   4553\n",
      "2   Female            Cancer   4602\n",
      "3   Female          Diabetes   4651\n",
      "4   Female      Hypertension   4612\n",
      "5   Female           Obesity   4622\n",
      "6     Male         Arthritis   4622\n",
      "7     Male            Asthma   4632\n",
      "8     Male            Cancer   4625\n",
      "9     Male          Diabetes   4653\n",
      "10    Male      Hypertension   4633\n",
      "11    Male           Obesity   4609\n"
     ]
    }
   ],
   "source": [
    "# Resetting index\n",
    "gender_condition_counts = gender_condition_counts.reset_index(drop=True)\n",
    "print(gender_condition_counts)"
   ]
  },
  {
   "cell_type": "code",
   "execution_count": 17,
   "id": "3ClZeYBVQ92S",
   "metadata": {
    "colab": {
     "base_uri": "https://localhost:8080/"
    },
    "id": "3ClZeYBVQ92S",
    "outputId": "9ec83e00-a0d7-435c-dc7e-d413f6efc107"
   },
   "outputs": [
    {
     "name": "stdout",
     "output_type": "stream",
     "text": [
      "Gender             Female  Male\n",
      "Medical Condition              \n",
      "Arthritis            4686  4622\n",
      "Diabetes             4651  4653\n",
      "Hypertension         4612  4633\n",
      "Obesity              4622  4609\n",
      "Cancer               4602  4625\n",
      "Asthma               4553  4632\n"
     ]
    }
   ],
   "source": [
    "# Pivot the table to have Medical Condition as index, Gender as columns, and Count as values\n",
    "gender_condition_pivot = gender_condition_counts.pivot(index='Medical Condition', columns='Gender', values='Count').fillna(0)\n",
    "\n",
    "# Sort by total count (sum of male and female) in descending order\n",
    "gender_condition_pivot['Total'] = gender_condition_pivot['Female'] + gender_condition_pivot['Male']\n",
    "gender_condition_pivot = gender_condition_pivot.sort_values('Total', ascending=False).drop('Total', axis=1)\n",
    "\n",
    "print(gender_condition_pivot)"
   ]
  },
  {
   "cell_type": "markdown",
   "id": "02600a16-f0eb-4cd4-9c6e-0a46de78005e",
   "metadata": {
    "id": "02600a16-f0eb-4cd4-9c6e-0a46de78005e"
   },
   "source": [
    "I made 2 conclusions from the healthcare_dataset:\n",
    "The Medical Condition prevalence among the genders. Females were more prone to arthritis & obesity. Males were more prone to Asthma, Cancer, Diabetes, & Hypertension in this dataset. The comparatory numbers can be referenced in the last part of the project. I'm unable to extrapolate this to the general population which may or may not be true.\n",
    "The second conclusion was comparison of the 6 medical conditions amongst the male & female population in this dataset. Males showed Arthritis at 80%, frmales showed obesity at 100%. The distribution of hypertension was eqaul at 50% for both for hypertension.\n"
   ]
  },
  {
   "cell_type": "code",
   "execution_count": null,
   "id": "b4958157-3cb0-4afd-8b7c-65ae8afbcbe7",
   "metadata": {
    "id": "b4958157-3cb0-4afd-8b7c-65ae8afbcbe7"
   },
   "outputs": [],
   "source": []
  }
 ],
 "metadata": {
  "colab": {
   "provenance": []
  },
  "kernelspec": {
   "display_name": "Python 3 (ipykernel)",
   "language": "python",
   "name": "python3"
  },
  "language_info": {
   "codemirror_mode": {
    "name": "ipython",
    "version": 3
   },
   "file_extension": ".py",
   "mimetype": "text/x-python",
   "name": "python",
   "nbconvert_exporter": "python",
   "pygments_lexer": "ipython3",
   "version": "3.11.7"
  }
 },
 "nbformat": 4,
 "nbformat_minor": 5
}
