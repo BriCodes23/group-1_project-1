{
  "nbformat": 4,
  "nbformat_minor": 0,
  "metadata": {
    "colab": {
      "provenance": [],
      "authorship_tag": "ABX9TyMstFpkwz2q4tXLbXNxKmMe"
    },
    "kernelspec": {
      "name": "python3",
      "display_name": "Python 3"
    },
    "language_info": {
      "name": "python"
    }
  },
  "cells": [
    {
      "cell_type": "code",
      "execution_count": null,
      "metadata": {
        "id": "ZQapBx835hZh"
      },
      "outputs": [],
      "source": [
        "import pandas as pd\n"
      ]
    },
    {
      "cell_type": "code",
      "source": [
        "url = \"https://www.kaggle.com/datasets/prasad22/healthcare-dataset\"\n",
        "data = pd.read_csv(\"https://www.kaggle.com/datasets/prasad22/healthcare-dataset\")\n",
        "data.to_csv('healthcare_data.csv', index=False)\n",
        "data.describe()\n"
      ],
      "metadata": {
        "id": "-DPWxj1C7-uM"
      },
      "execution_count": null,
      "outputs": []
    },
    {
      "cell_type": "code",
      "source": [
        "print(data.head())\n"
      ],
      "metadata": {
        "id": "A7UGV2XDFuhQ"
      },
      "execution_count": null,
      "outputs": []
    },
    {
      "cell_type": "code",
      "source": [
        "# Group the data by Insurance Provider and count the number of admissions for each Provider\n",
        "ins_admissions = data.groupby('Insurance Provider')['Date of Admission'].count().reset_index()\n"
      ],
      "metadata": {
        "id": "uHnGnSUr8GyR"
      },
      "execution_count": null,
      "outputs": []
    },
    {
      "cell_type": "code",
      "source": [
        "print(data.columns)"
      ],
      "metadata": {
        "id": "NHzQwDn4HwPc"
      },
      "execution_count": null,
      "outputs": []
    },
    {
      "cell_type": "code",
      "source": [
        "# Identify the Insurance Provider with the highest admission rates\n",
        "ins_highest_admission = ins_admissions.sort_values(by='Date of Admission', ascending=False).head()\n",
        "\n"
      ],
      "metadata": {
        "id": "HJ3UHfDx8Hf8"
      },
      "execution_count": null,
      "outputs": []
    },
    {
      "cell_type": "code",
      "source": [
        "print(\"Insurance Provider with the highest admission rates:\")\n",
        "print(ins_highest_admission)"
      ],
      "metadata": {
        "id": "p4TVlMTu8M43"
      },
      "execution_count": null,
      "outputs": []
    },
    {
      "cell_type": "code",
      "source": [
        "# Group the data by Medical Condition and count the number of admissions for each\n",
        "disease_admissions = data.groupby('Medical Condition')['Date of Admission'].count().reset_index()\n"
      ],
      "metadata": {
        "id": "1JDODSFa8QNM"
      },
      "execution_count": null,
      "outputs": []
    },
    {
      "cell_type": "code",
      "source": [
        "# Identify the diseases that patients are being admitted the most for\n",
        "most_admitted_diseases = disease_admissions.sort_values(by='Date of Admission', ascending=False).head()"
      ],
      "metadata": {
        "id": "WftzyZFM8W43"
      },
      "execution_count": null,
      "outputs": []
    },
    {
      "cell_type": "code",
      "source": [
        "print(\"\\nDiseases patients are being admitted the most for:\")\n",
        "print(most_admitted_diseases)"
      ],
      "metadata": {
        "id": "OSp69z6O8Xhf"
      },
      "execution_count": null,
      "outputs": []
    }
  ]
}